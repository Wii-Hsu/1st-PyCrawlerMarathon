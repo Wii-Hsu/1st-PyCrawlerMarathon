{
 "cells": [
  {
   "cell_type": "markdown",
   "metadata": {},
   "source": [
    "# API 資料串接 - 以 Dcard API 實作範例\n",
    "\n",
    "* 了解 Dcard API 使用方式與回傳內容\n",
    "* 撰寫程式存取 API 且解析 JSON 格式資料\n"
   ]
  },
  {
   "cell_type": "markdown",
   "metadata": {},
   "source": [
    "## 作業目標\n",
    "\n",
    "* 請利用 API: https://www.dcard.tw/_api/forums/pet/posts?popular=true 回答下列問題：\n",
    "\n",
    "1. 這個 API 一次會回傳幾筆資料？每一筆資料包含哪些欄位？\n",
    "2. 取出每一筆資料的「標題」、「貼文時間」、「留言人數」、「按讚人數」\n",
    "3. 計算熱門/非熱門文章的「平均留言人數」與「平均按讚人數」"
   ]
  },
  {
   "cell_type": "code",
   "execution_count": 57,
   "metadata": {},
   "outputs": [
    {
     "name": "stdout",
     "output_type": "stream",
     "text": [
      "232657695\n",
      "232659078\n",
      "232657790\n",
      "232656986\n",
      "232658528\n",
      "232660738\n",
      "232658083\n",
      "232657122\n",
      "232658819\n",
      "232657359\n",
      "232661866\n",
      "232659754\n",
      "232657342\n",
      "232657124\n",
      "232660868\n",
      "232663758\n",
      "232661528\n",
      "232659367\n",
      "232664303\n",
      "232662510\n",
      "232657840\n",
      "232656477\n",
      "232656470\n",
      "232660980\n",
      "232657786\n",
      "232656298\n",
      "232660112\n",
      "232660855\n",
      "232660543\n",
      "232659325\n",
      "回傳30筆資料\n"
     ]
    },
    {
     "data": {
      "text/plain": [
       "dict_keys(['id', 'title', 'excerpt', 'anonymousSchool', 'anonymousDepartment', 'pinned', 'forumId', 'replyId', 'createdAt', 'updatedAt', 'commentCount', 'likeCount', 'withNickname', 'tags', 'topics', 'meta', 'forumName', 'forumAlias', 'gender', 'school', 'replyTitle', 'mediaMeta', 'reactions', 'hidden', 'customStyle', 'isSuspiciousAccount', 'layout', 'withImages', 'withVideos', 'media', 'reportReasonText', 'postAvatar'])"
      ]
     },
     "execution_count": 57,
     "metadata": {},
     "output_type": "execute_result"
    }
   ],
   "source": [
    "# 1. 這個 API 一次會回傳幾筆資料？每一筆資料包含哪些欄位？\n",
    "import requests,json\n",
    "r=requests.get(\"https://www.dcard.tw/_api/forums/pet/posts?popular=true\")\n",
    "\n",
    "response=r.text\n",
    "\n",
    "data=json.loads(response)\n",
    "\n",
    "for index, d in enumerate(data,start=1):\n",
    "    print(d['id'])\n",
    "print(\"回傳{}筆資料\".format(index))\n",
    "\n",
    "dict.keys(data[0])"
   ]
  },
  {
   "cell_type": "code",
   "execution_count": 46,
   "metadata": {
    "scrolled": true
   },
   "outputs": [
    {
     "name": "stdout",
     "output_type": "stream",
     "text": [
      "標題:不是貓的貓 時間:2019-12-10T02:41:33.923Z 留言:21 讚:580\n",
      "標題:把鼠鼠交出來！ 時間:2019-12-10T07:09:01.647Z 留言:14 讚:526\n",
      "標題:這是我寶貝不准搶喔 時間:2019-12-10T03:02:15.704Z 留言:6 讚:261\n",
      "標題:原來是跳水選手啊？我還以為是貓呢！ 時間:2019-12-09T19:11:44.337Z 留言:9 讚:238\n",
      "標題:#心情 第一次感受到養寵物的重量可以有多沈重 時間:2019-12-10T05:29:22.850Z 留言:3 讚:141\n",
      "標題:寵物展之自己的飼料自己賺🐰 時間:2019-12-10T12:03:52.215Z 留言:5 讚:65\n",
      "標題:穿越半個台北的緣份，她的一句話，一個承諾，我會陪妳到最後。（圖多文長 時間:2019-12-09T20:46:31.759Z 留言:23 讚:63\n",
      "標題:92歲 vs 3歲 時間:2019-12-10T04:05:49.110Z 留言:6 讚:60\n",
      "標題:每次都懷疑貓咪的身體裡面裝人的靈魂⋯ 時間:2019-12-10T06:22:49.320Z 留言:3 讚:44\n",
      "標題:喜歡吹風機的鳥鳥 時間:2019-12-10T00:58:05.641Z 留言:7 讚:39\n",
      "標題:#貓 #圖 先森你的頭忘在外面了喔 時間:2019-12-10T14:48:09.589Z 留言:2 讚:31\n",
      "標題:嗨 你們長大了！ 時間:2019-12-10T09:13:16.437Z 留言:2 讚:30\n",
      "標題:愛他就盡量減少傷害他的可能性！ 時間:2019-12-10T00:49:26.480Z 留言:20 讚:27\n",
      "標題:學生中途，學生領養 時間:2019-12-09T20:47:33.372Z 留言:5 讚:26\n",
      "標題:蛋蛋脫皮脫到一半大便了 時間:2019-12-10T12:23:07.331Z 留言:13 讚:25\n",
      "標題:新手養貓：符合每日攝水量的餵食方式 時間:2019-12-10T22:35:35.606Z 留言:0 讚:19\n",
      "標題:你的舌頭 ...... 收好好嗎 時間:2019-12-10T14:00:20.284Z 留言:1 讚:15\n",
      "標題:冬天就是要睡一波💤🐰 時間:2019-12-10T07:58:56.810Z 留言:3 讚:15\n",
      "標題:各位觀眾！蛋基 時間:2019-12-10T03:14:04.424Z 留言:1 讚:12\n",
      "標題:尋狗狗🐶#哈士奇 時間:2019-12-10T16:09:06.793Z 留言:1 讚:11\n",
      "標題:聞腋青年🐰 時間:2019-12-09T17:14:42.947Z 留言:0 讚:11\n",
      "標題:發霉柴ಠ_ಠ #黴菌感染 時間:2019-12-09T17:13:34.357Z 留言:8 讚:10\n",
      "標題:假的夜行性動物 時間:2019-12-10T12:38:55.672Z 留言:3 讚:9\n",
      "標題:#提問 寵物保溫燈有怪味 時間:2019-12-10T03:01:55.350Z 留言:1 讚:9\n",
      "標題:朋友把貓送我但卻又後悔！ 時間:2019-12-09T16:43:51.377Z 留言:11 讚:9\n",
      "標題:貓咪遺失 時間:2019-12-10T12:21:01.452Z 留言:1 讚:7\n",
      "標題:無需維持禁止寵物鳥搭乘大眾運輸 時間:2019-12-10T11:33:55.195Z 留言:2 讚:7\n",
      "標題:大家好我是阿咪🐈🐱#圖多慎入 時間:2019-12-10T07:53:23.493Z 留言:0 讚:7\n",
      "標題:天堂的樣子 時間:2019-12-10T04:31:02.584Z 留言:0 讚:7\n",
      "標題:虐貓案後續追蹤 時間:2019-12-09T16:31:38.896Z 留言:5 讚:7\n"
     ]
    }
   ],
   "source": [
    "# 2. 取出每一筆資料的「標題」、「貼文時間」、「留言人數」、「按讚人數」\n",
    "\n",
    "for info in data:\n",
    "    print(\"標題:{} 時間:{} 留言:{} 讚:{}\".format(info['title'],info['createdAt'],info['commentCount'],info['likeCount']))"
   ]
  },
  {
   "cell_type": "code",
   "execution_count": 67,
   "metadata": {},
   "outputs": [
    {
     "name": "stdout",
     "output_type": "stream",
     "text": [
      "熱門文章 平均留言:6.1 平均按讚:88.26666666666667\n",
      "非熱門文章 平均留言:2.433333333333333 平均按讚:7.366666666666666\n"
     ]
    }
   ],
   "source": [
    "# 3. 計算熱門/非熱門文章的「平均留言人數」與「平均按讚人數」\n",
    "#熱門\n",
    "p_avg_comment=0\n",
    "p_avg_like=0\n",
    "for index ,p_info in enumerate(data,start=1):\n",
    "    p_avg_comment += p_info['commentCount']\n",
    "    p_avg_like += p_info['likeCount']\n",
    "\n",
    "p_avg_comment = (p_avg_comment/index)\n",
    "p_avg_like = (p_avg_like/index)\n",
    "print(\"熱門文章 平均留言:{} 平均按讚:{}\".format(p_avg_comment,p_avg_like))\n",
    "\n",
    "#非熱門\n",
    "notpopular=requests.get(\"https://www.dcard.tw/_api/forums/pet/posts?popular=false\")\n",
    "\n",
    "response=notpopular.text\n",
    "\n",
    "npdata=json.loads(response)\n",
    "\n",
    "np_avg_comment=0\n",
    "np_avg_like=0\n",
    "\n",
    "for np_index ,np_info in enumerate(npdata,start=1):\n",
    "    np_avg_comment += np_info['commentCount']\n",
    "    np_avg_like += np_info['likeCount']\n",
    "    #print(\"{}  {}   {}\".format(np_index,np_info['commentCount'],np_info['likeCount']))\n",
    "np_avg_comment = (np_avg_comment/np_index)\n",
    "np_avg_like = (np_avg_like/np_index)\n",
    "print(\"非熱門文章 平均留言:{} 平均按讚:{}\".format(np_avg_comment,np_avg_like))\n"
   ]
  },
  {
   "cell_type": "code",
   "execution_count": null,
   "metadata": {},
   "outputs": [],
   "source": []
  }
 ],
 "metadata": {
  "kernelspec": {
   "display_name": "Python 3",
   "language": "python",
   "name": "python3"
  },
  "language_info": {
   "codemirror_mode": {
    "name": "ipython",
    "version": 3
   },
   "file_extension": ".py",
   "mimetype": "text/x-python",
   "name": "python",
   "nbconvert_exporter": "python",
   "pygments_lexer": "ipython3",
   "version": "3.7.4"
  }
 },
 "nbformat": 4,
 "nbformat_minor": 2
}
